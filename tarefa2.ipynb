{
 "cells": [
  {
   "cell_type": "markdown",
   "metadata": {},
   "source": [
    "Tarefa 2"
   ]
  },
  {
   "cell_type": "code",
   "execution_count": 1,
   "metadata": {},
   "outputs": [],
   "source": [
    "import math\n",
    "\n",
    "def calcula_minimo2(x, y, alpha):\n",
    "    iteracoes = 1\n",
    "    a = (x / ((x**2 + y**2 + 1)**0.5)) + ((2*x) / ((math.e**(y**2)) + 2*x -4))\n",
    "    b = (y / ((x**2 + y**2 + 1)**0.5)) - ((2*(x**2)*y) / (math.e**(y**2)))\n",
    "    vetor = (a**2 + b**2)**0.5\n",
    "    x_novo = x - alpha * a\n",
    "    y_novo = y - alpha * b\n",
    "    x = x_novo\n",
    "    y = y_novo\n",
    "\n",
    "    while vetor > 10**-5:\n",
    "        a = (x / ((x**2 + y**2 + 1)**0.5)) + ((2*x) / ((math.e**(y**2)) + 2*x -4))\n",
    "        b = (y / ((x**2 + y**2 + 1)**0.5)) - ((2*(x**2)*y) / (math.e**(y**2)))\n",
    "        vetor = (a**2 + b**2)**0.5\n",
    "        x_novo = x + alpha * (-a)\n",
    "        y_novo = y + alpha * (-b)\n",
    "        x = x_novo\n",
    "        y = y_novo\n",
    "        iteracoes += 1\n",
    "    return (f\"O x final vale {x}, o y final vale {y} e número de interações totais foi {iteracoes}, dado um alpha = {alpha}.\")"
   ]
  },
  {
   "cell_type": "code",
   "execution_count": 2,
   "metadata": {},
   "outputs": [
    {
     "name": "stdout",
     "output_type": "stream",
     "text": [
      "O x final vale 0.0, o y final vale 0.0 e número de interações totais foi 1, dado um alpha = 0.1.\n"
     ]
    }
   ],
   "source": [
    "print(calcula_minimo2(0,0,0.1))"
   ]
  }
 ],
 "metadata": {
  "kernelspec": {
   "display_name": ".venv",
   "language": "python",
   "name": "python3"
  },
  "language_info": {
   "codemirror_mode": {
    "name": "ipython",
    "version": 3
   },
   "file_extension": ".py",
   "mimetype": "text/x-python",
   "name": "python",
   "nbconvert_exporter": "python",
   "pygments_lexer": "ipython3",
   "version": "3.11.4"
  }
 },
 "nbformat": 4,
 "nbformat_minor": 2
}
