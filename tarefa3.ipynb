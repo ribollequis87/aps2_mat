{
 "cells": [
  {
   "cell_type": "code",
   "execution_count": 24,
   "metadata": {},
   "outputs": [],
   "source": [
    "import math\n",
    "\n",
    "def calcula_minimo3(x, y, alpha):\n",
    "    iteracoes = 1\n",
    "    a = (-8*math.e**((-x**2)-(y**2)))*x-6*math.e**((-x**2)-(y**2)+4*x+6*y-13)*x+12*math.e**((-x**2)-(y**2)+4*x+6*y-13)-(x/4)\n",
    "    b = (-8*math.e**((-x**2)-(y**2)))*y-6*math.e**((-x**2)-(y**2)+4*x+6*y-13)*y+18*math.e**((-x**2)-(y**2)+4*x+6*y-13)-(y/7)\n",
    "    vetor = (a**2 + b**2)**0.5\n",
    "    x_novo = x - alpha * a\n",
    "    y_novo = y - alpha * b\n",
    "    x = x_novo\n",
    "    y = y_novo\n",
    "\n",
    "    while vetor > 10**-5:\n",
    "        a = (-8*math.e**((-x**2)-(y**2)))*x-6*math.e**((-x**2)-(y**2)+4*x+6*y-13)*x+12*math.e**((-x**2)-(y**2)+4*x+6*y-13)-(x/4)\n",
    "        b = (-8*math.e**((-x**2)-(y**2)))*y-6*math.e**((-x**2)-(y**2)+4*x+6*y-13)*y+18*math.e**((-x**2)-(y**2)+4*x+6*y-13)-(y/7)\n",
    "        vetor = (a**2 + b**2)**0.5\n",
    "        x_novo = x + alpha * (-a)\n",
    "        y_novo = y + alpha * (-b)\n",
    "        x = x_novo\n",
    "        y = y_novo\n",
    "        iteracoes += 1\n",
    "    return (f\"O x final vale {x}, o y final vale {y} e número de interações totais foi {iteracoes}, dado um alpha = {alpha}.\")"
   ]
  },
  {
   "cell_type": "code",
   "execution_count": 26,
   "metadata": {},
   "outputs": [
    {
     "ename": "OverflowError",
     "evalue": "(34, 'Result too large')",
     "output_type": "error",
     "traceback": [
      "\u001b[1;31m---------------------------------------------------------------------------\u001b[0m",
      "\u001b[1;31mOverflowError\u001b[0m                             Traceback (most recent call last)",
      "\u001b[1;32mc:\\Users\\gusri\\OneDrive\\Documentos\\Insper\\mat_continuo\\aps2\\aps2_mat\\tarefa3.ipynb Cell 2\u001b[0m line \u001b[0;36m1\n\u001b[1;32m----> <a href='vscode-notebook-cell:/c%3A/Users/gusri/OneDrive/Documentos/Insper/mat_continuo/aps2/aps2_mat/tarefa3.ipynb#W1sZmlsZQ%3D%3D?line=0'>1</a>\u001b[0m calcula_minimo3(\u001b[39m0\u001b[39;49m,\u001b[39m0\u001b[39;49m,\u001b[39m0.01\u001b[39;49m)\n",
      "\u001b[1;32mc:\\Users\\gusri\\OneDrive\\Documentos\\Insper\\mat_continuo\\aps2\\aps2_mat\\tarefa3.ipynb Cell 2\u001b[0m line \u001b[0;36m1\n\u001b[0;32m     <a href='vscode-notebook-cell:/c%3A/Users/gusri/OneDrive/Documentos/Insper/mat_continuo/aps2/aps2_mat/tarefa3.ipynb#W1sZmlsZQ%3D%3D?line=10'>11</a>\u001b[0m y \u001b[39m=\u001b[39m y_novo\n\u001b[0;32m     <a href='vscode-notebook-cell:/c%3A/Users/gusri/OneDrive/Documentos/Insper/mat_continuo/aps2/aps2_mat/tarefa3.ipynb#W1sZmlsZQ%3D%3D?line=12'>13</a>\u001b[0m \u001b[39mwhile\u001b[39;00m vetor \u001b[39m>\u001b[39m \u001b[39m10\u001b[39m\u001b[39m*\u001b[39m\u001b[39m*\u001b[39m\u001b[39m-\u001b[39m\u001b[39m5\u001b[39m:\n\u001b[1;32m---> <a href='vscode-notebook-cell:/c%3A/Users/gusri/OneDrive/Documentos/Insper/mat_continuo/aps2/aps2_mat/tarefa3.ipynb#W1sZmlsZQ%3D%3D?line=13'>14</a>\u001b[0m     a \u001b[39m=\u001b[39m (\u001b[39m-\u001b[39m\u001b[39m8\u001b[39m\u001b[39m*\u001b[39mmath\u001b[39m.\u001b[39me\u001b[39m*\u001b[39m\u001b[39m*\u001b[39m((\u001b[39m-\u001b[39mx\u001b[39m*\u001b[39;49m\u001b[39m*\u001b[39;49m\u001b[39m2\u001b[39;49m)\u001b[39m-\u001b[39m(y\u001b[39m*\u001b[39m\u001b[39m*\u001b[39m\u001b[39m2\u001b[39m)))\u001b[39m*\u001b[39mx\u001b[39m-\u001b[39m\u001b[39m6\u001b[39m\u001b[39m*\u001b[39mmath\u001b[39m.\u001b[39me\u001b[39m*\u001b[39m\u001b[39m*\u001b[39m((\u001b[39m-\u001b[39mx\u001b[39m*\u001b[39m\u001b[39m*\u001b[39m\u001b[39m2\u001b[39m)\u001b[39m-\u001b[39m(y\u001b[39m*\u001b[39m\u001b[39m*\u001b[39m\u001b[39m2\u001b[39m)\u001b[39m+\u001b[39m\u001b[39m4\u001b[39m\u001b[39m*\u001b[39mx\u001b[39m+\u001b[39m\u001b[39m6\u001b[39m\u001b[39m*\u001b[39my\u001b[39m-\u001b[39m\u001b[39m13\u001b[39m)\u001b[39m*\u001b[39mx\u001b[39m+\u001b[39m\u001b[39m12\u001b[39m\u001b[39m*\u001b[39mmath\u001b[39m.\u001b[39me\u001b[39m*\u001b[39m\u001b[39m*\u001b[39m((\u001b[39m-\u001b[39mx\u001b[39m*\u001b[39m\u001b[39m*\u001b[39m\u001b[39m2\u001b[39m)\u001b[39m-\u001b[39m(y\u001b[39m*\u001b[39m\u001b[39m*\u001b[39m\u001b[39m2\u001b[39m)\u001b[39m+\u001b[39m\u001b[39m4\u001b[39m\u001b[39m*\u001b[39mx\u001b[39m+\u001b[39m\u001b[39m6\u001b[39m\u001b[39m*\u001b[39my\u001b[39m-\u001b[39m\u001b[39m13\u001b[39m)\u001b[39m-\u001b[39m(x\u001b[39m/\u001b[39m\u001b[39m4\u001b[39m)\n\u001b[0;32m     <a href='vscode-notebook-cell:/c%3A/Users/gusri/OneDrive/Documentos/Insper/mat_continuo/aps2/aps2_mat/tarefa3.ipynb#W1sZmlsZQ%3D%3D?line=14'>15</a>\u001b[0m     b \u001b[39m=\u001b[39m (\u001b[39m-\u001b[39m\u001b[39m8\u001b[39m\u001b[39m*\u001b[39mmath\u001b[39m.\u001b[39me\u001b[39m*\u001b[39m\u001b[39m*\u001b[39m((\u001b[39m-\u001b[39mx\u001b[39m*\u001b[39m\u001b[39m*\u001b[39m\u001b[39m2\u001b[39m)\u001b[39m-\u001b[39m(y\u001b[39m*\u001b[39m\u001b[39m*\u001b[39m\u001b[39m2\u001b[39m)))\u001b[39m*\u001b[39my\u001b[39m-\u001b[39m\u001b[39m6\u001b[39m\u001b[39m*\u001b[39mmath\u001b[39m.\u001b[39me\u001b[39m*\u001b[39m\u001b[39m*\u001b[39m((\u001b[39m-\u001b[39mx\u001b[39m*\u001b[39m\u001b[39m*\u001b[39m\u001b[39m2\u001b[39m)\u001b[39m-\u001b[39m(y\u001b[39m*\u001b[39m\u001b[39m*\u001b[39m\u001b[39m2\u001b[39m)\u001b[39m+\u001b[39m\u001b[39m4\u001b[39m\u001b[39m*\u001b[39mx\u001b[39m+\u001b[39m\u001b[39m6\u001b[39m\u001b[39m*\u001b[39my\u001b[39m-\u001b[39m\u001b[39m13\u001b[39m)\u001b[39m*\u001b[39my\u001b[39m+\u001b[39m\u001b[39m18\u001b[39m\u001b[39m*\u001b[39mmath\u001b[39m.\u001b[39me\u001b[39m*\u001b[39m\u001b[39m*\u001b[39m((\u001b[39m-\u001b[39mx\u001b[39m*\u001b[39m\u001b[39m*\u001b[39m\u001b[39m2\u001b[39m)\u001b[39m-\u001b[39m(y\u001b[39m*\u001b[39m\u001b[39m*\u001b[39m\u001b[39m2\u001b[39m)\u001b[39m+\u001b[39m\u001b[39m4\u001b[39m\u001b[39m*\u001b[39mx\u001b[39m+\u001b[39m\u001b[39m6\u001b[39m\u001b[39m*\u001b[39my\u001b[39m-\u001b[39m\u001b[39m13\u001b[39m)\u001b[39m-\u001b[39m(y\u001b[39m/\u001b[39m\u001b[39m7\u001b[39m)\n\u001b[0;32m     <a href='vscode-notebook-cell:/c%3A/Users/gusri/OneDrive/Documentos/Insper/mat_continuo/aps2/aps2_mat/tarefa3.ipynb#W1sZmlsZQ%3D%3D?line=15'>16</a>\u001b[0m     vetor \u001b[39m=\u001b[39m (a\u001b[39m*\u001b[39m\u001b[39m*\u001b[39m\u001b[39m2\u001b[39m \u001b[39m+\u001b[39m b\u001b[39m*\u001b[39m\u001b[39m*\u001b[39m\u001b[39m2\u001b[39m)\u001b[39m*\u001b[39m\u001b[39m*\u001b[39m\u001b[39m0.5\u001b[39m\n",
      "\u001b[1;31mOverflowError\u001b[0m: (34, 'Result too large')"
     ]
    }
   ],
   "source": [
    "calcula_minimo3(0,0,0.01)"
   ]
  }
 ],
 "metadata": {
  "kernelspec": {
   "display_name": ".venv",
   "language": "python",
   "name": "python3"
  },
  "language_info": {
   "codemirror_mode": {
    "name": "ipython",
    "version": 3
   },
   "file_extension": ".py",
   "mimetype": "text/x-python",
   "name": "python",
   "nbconvert_exporter": "python",
   "pygments_lexer": "ipython3",
   "version": "3.11.4"
  }
 },
 "nbformat": 4,
 "nbformat_minor": 2
}
