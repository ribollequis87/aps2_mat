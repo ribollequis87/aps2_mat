{
 "cells": [
  {
   "cell_type": "markdown",
   "metadata": {},
   "source": [
    "Tarefa 1"
   ]
  },
  {
   "cell_type": "code",
   "execution_count": 2,
   "metadata": {},
   "outputs": [],
   "source": [
    "def calcula_minimo(x, y, alpha):\n",
    "    iteracoes = 1\n",
    "    a = 6*x + 3 * y + 3\n",
    "    b = 3*x + 4*y +1\n",
    "    vetor = (a**2 + b**2)**0.5\n",
    "    x_novo = x - alpha * a\n",
    "    y_novo = y - alpha * b\n",
    "    x = x_novo\n",
    "    y = y_novo\n",
    "\n",
    "    while vetor > 10**-5:\n",
    "        a = 6*x + 3 * y + 3\n",
    "        b = 3*x + 4*y +1\n",
    "        vetor = (a**2 + b**2)**0.5\n",
    "        x_novo = x + alpha * (-a)\n",
    "        y_novo = y + alpha * (-b)\n",
    "        x = x_novo\n",
    "        y = y_novo\n",
    "        iteracoes += 1\n",
    "    return (f\"O x final vale {x}, o y final vale {y} e número de interações totais foi {iteracoes}, dado um alpha = {alpha}.\")"
   ]
  },
  {
   "cell_type": "code",
   "execution_count": 3,
   "metadata": {},
   "outputs": [
    {
     "name": "stdout",
     "output_type": "stream",
     "text": [
      "O x final vale -0.5999976976020822, o y final vale 0.19999680559352725 e número de interações totais foi 58, dado um alpha = 0.1.\n"
     ]
    }
   ],
   "source": [
    "print(calcula_minimo(0, 0, 0.1)) # Alpha = 0.1"
   ]
  },
  {
   "cell_type": "code",
   "execution_count": 4,
   "metadata": {},
   "outputs": [
    {
     "name": "stdout",
     "output_type": "stream",
     "text": [
      "O x final vale -0.5999980274447267, o y final vale 0.19999726322575093 e número de interações totais foi 37, dado um alpha = 0.15.\n"
     ]
    }
   ],
   "source": [
    "print(calcula_minimo(0, 0, 0.15)) # Alpha = 0.15"
   ]
  },
  {
   "cell_type": "code",
   "execution_count": 5,
   "metadata": {},
   "outputs": [
    {
     "name": "stdout",
     "output_type": "stream",
     "text": [
      "O x final vale -0.6, o y final vale 0.19999892625817609 e número de interações totais foi 29, dado um alpha = 0.2.\n"
     ]
    }
   ],
   "source": [
    "print(calcula_minimo(0, 0, 0.2)) # Alpha = 0.2"
   ]
  },
  {
   "cell_type": "code",
   "execution_count": 6,
   "metadata": {},
   "outputs": [
    {
     "ename": "OverflowError",
     "evalue": "(34, 'Result too large')",
     "output_type": "error",
     "traceback": [
      "\u001b[1;31m---------------------------------------------------------------------------\u001b[0m",
      "\u001b[1;31mOverflowError\u001b[0m                             Traceback (most recent call last)",
      "\u001b[1;32mc:\\Users\\gusri\\OneDrive\\Documentos\\Insper\\mat_continuo\\aps2\\aps2_mat\\main.ipynb Cell 7\u001b[0m line \u001b[0;36m1\n\u001b[1;32m----> <a href='vscode-notebook-cell:/c%3A/Users/gusri/OneDrive/Documentos/Insper/mat_continuo/aps2/aps2_mat/main.ipynb#W5sZmlsZQ%3D%3D?line=0'>1</a>\u001b[0m \u001b[39mprint\u001b[39m(calcula_minimo(\u001b[39m0\u001b[39;49m, \u001b[39m0\u001b[39;49m, \u001b[39m0.3\u001b[39;49m)) \u001b[39m# Alpha = 0.3\u001b[39;00m\n",
      "\u001b[1;32mc:\\Users\\gusri\\OneDrive\\Documentos\\Insper\\mat_continuo\\aps2\\aps2_mat\\main.ipynb Cell 7\u001b[0m line \u001b[0;36m1\n\u001b[0;32m     <a href='vscode-notebook-cell:/c%3A/Users/gusri/OneDrive/Documentos/Insper/mat_continuo/aps2/aps2_mat/main.ipynb#W5sZmlsZQ%3D%3D?line=11'>12</a>\u001b[0m a \u001b[39m=\u001b[39m \u001b[39m6\u001b[39m\u001b[39m*\u001b[39mx \u001b[39m+\u001b[39m \u001b[39m3\u001b[39m \u001b[39m*\u001b[39m y \u001b[39m+\u001b[39m \u001b[39m3\u001b[39m\n\u001b[0;32m     <a href='vscode-notebook-cell:/c%3A/Users/gusri/OneDrive/Documentos/Insper/mat_continuo/aps2/aps2_mat/main.ipynb#W5sZmlsZQ%3D%3D?line=12'>13</a>\u001b[0m b \u001b[39m=\u001b[39m \u001b[39m3\u001b[39m\u001b[39m*\u001b[39mx \u001b[39m+\u001b[39m \u001b[39m4\u001b[39m\u001b[39m*\u001b[39my \u001b[39m+\u001b[39m\u001b[39m1\u001b[39m\n\u001b[1;32m---> <a href='vscode-notebook-cell:/c%3A/Users/gusri/OneDrive/Documentos/Insper/mat_continuo/aps2/aps2_mat/main.ipynb#W5sZmlsZQ%3D%3D?line=13'>14</a>\u001b[0m vetor \u001b[39m=\u001b[39m (a\u001b[39m*\u001b[39;49m\u001b[39m*\u001b[39;49m\u001b[39m2\u001b[39;49m \u001b[39m+\u001b[39m b\u001b[39m*\u001b[39m\u001b[39m*\u001b[39m\u001b[39m2\u001b[39m)\u001b[39m*\u001b[39m\u001b[39m*\u001b[39m\u001b[39m0.5\u001b[39m\n\u001b[0;32m     <a href='vscode-notebook-cell:/c%3A/Users/gusri/OneDrive/Documentos/Insper/mat_continuo/aps2/aps2_mat/main.ipynb#W5sZmlsZQ%3D%3D?line=14'>15</a>\u001b[0m x_novo \u001b[39m=\u001b[39m x \u001b[39m+\u001b[39m alpha \u001b[39m*\u001b[39m (\u001b[39m-\u001b[39ma)\n\u001b[0;32m     <a href='vscode-notebook-cell:/c%3A/Users/gusri/OneDrive/Documentos/Insper/mat_continuo/aps2/aps2_mat/main.ipynb#W5sZmlsZQ%3D%3D?line=15'>16</a>\u001b[0m y_novo \u001b[39m=\u001b[39m y \u001b[39m+\u001b[39m alpha \u001b[39m*\u001b[39m (\u001b[39m-\u001b[39mb)\n",
      "\u001b[1;31mOverflowError\u001b[0m: (34, 'Result too large')"
     ]
    }
   ],
   "source": [
    "print(calcula_minimo(0, 0, 0.3)) # Alpha = 0.3"
   ]
  },
  {
   "cell_type": "code",
   "execution_count": 7,
   "metadata": {},
   "outputs": [
    {
     "ename": "OverflowError",
     "evalue": "(34, 'Result too large')",
     "output_type": "error",
     "traceback": [
      "\u001b[1;31m---------------------------------------------------------------------------\u001b[0m",
      "\u001b[1;31mOverflowError\u001b[0m                             Traceback (most recent call last)",
      "\u001b[1;32mc:\\Users\\gusri\\OneDrive\\Documentos\\Insper\\mat_continuo\\aps2\\aps2_mat\\main.ipynb Cell 8\u001b[0m line \u001b[0;36m1\n\u001b[1;32m----> <a href='vscode-notebook-cell:/c%3A/Users/gusri/OneDrive/Documentos/Insper/mat_continuo/aps2/aps2_mat/main.ipynb#W6sZmlsZQ%3D%3D?line=0'>1</a>\u001b[0m \u001b[39mprint\u001b[39m(calcula_minimo(\u001b[39m0\u001b[39;49m, \u001b[39m0\u001b[39;49m, \u001b[39m0.5\u001b[39;49m)) \u001b[39m# Alpha = 0.5\u001b[39;00m\n",
      "\u001b[1;32mc:\\Users\\gusri\\OneDrive\\Documentos\\Insper\\mat_continuo\\aps2\\aps2_mat\\main.ipynb Cell 8\u001b[0m line \u001b[0;36m1\n\u001b[0;32m     <a href='vscode-notebook-cell:/c%3A/Users/gusri/OneDrive/Documentos/Insper/mat_continuo/aps2/aps2_mat/main.ipynb#W6sZmlsZQ%3D%3D?line=11'>12</a>\u001b[0m a \u001b[39m=\u001b[39m \u001b[39m6\u001b[39m\u001b[39m*\u001b[39mx \u001b[39m+\u001b[39m \u001b[39m3\u001b[39m \u001b[39m*\u001b[39m y \u001b[39m+\u001b[39m \u001b[39m3\u001b[39m\n\u001b[0;32m     <a href='vscode-notebook-cell:/c%3A/Users/gusri/OneDrive/Documentos/Insper/mat_continuo/aps2/aps2_mat/main.ipynb#W6sZmlsZQ%3D%3D?line=12'>13</a>\u001b[0m b \u001b[39m=\u001b[39m \u001b[39m3\u001b[39m\u001b[39m*\u001b[39mx \u001b[39m+\u001b[39m \u001b[39m4\u001b[39m\u001b[39m*\u001b[39my \u001b[39m+\u001b[39m\u001b[39m1\u001b[39m\n\u001b[1;32m---> <a href='vscode-notebook-cell:/c%3A/Users/gusri/OneDrive/Documentos/Insper/mat_continuo/aps2/aps2_mat/main.ipynb#W6sZmlsZQ%3D%3D?line=13'>14</a>\u001b[0m vetor \u001b[39m=\u001b[39m (a\u001b[39m*\u001b[39;49m\u001b[39m*\u001b[39;49m\u001b[39m2\u001b[39;49m \u001b[39m+\u001b[39m b\u001b[39m*\u001b[39m\u001b[39m*\u001b[39m\u001b[39m2\u001b[39m)\u001b[39m*\u001b[39m\u001b[39m*\u001b[39m\u001b[39m0.5\u001b[39m\n\u001b[0;32m     <a href='vscode-notebook-cell:/c%3A/Users/gusri/OneDrive/Documentos/Insper/mat_continuo/aps2/aps2_mat/main.ipynb#W6sZmlsZQ%3D%3D?line=14'>15</a>\u001b[0m x_novo \u001b[39m=\u001b[39m x \u001b[39m+\u001b[39m alpha \u001b[39m*\u001b[39m (\u001b[39m-\u001b[39ma)\n\u001b[0;32m     <a href='vscode-notebook-cell:/c%3A/Users/gusri/OneDrive/Documentos/Insper/mat_continuo/aps2/aps2_mat/main.ipynb#W6sZmlsZQ%3D%3D?line=15'>16</a>\u001b[0m y_novo \u001b[39m=\u001b[39m y \u001b[39m+\u001b[39m alpha \u001b[39m*\u001b[39m (\u001b[39m-\u001b[39mb)\n",
      "\u001b[1;31mOverflowError\u001b[0m: (34, 'Result too large')"
     ]
    }
   ],
   "source": [
    "print(calcula_minimo(0, 0, 0.5)) # Alpha = 0.5"
   ]
  },
  {
   "cell_type": "markdown",
   "metadata": {},
   "source": [
    "Como foi possível identificar no código acima, a partir do alpha igual a 0.3 ocorre um erro de overflow, isso ocorre devido a imprecisão do ponto seguinte no gráfico nos alphas de 0.3 para mais. Visto que, a cada iteração, o ponto fica cada vez mais impreciso e distante do gráfico, não sendo possível encontrar um valor correspondente ao mínimo para esse valores de alpha."
   ]
  },
  {
   "cell_type": "markdown",
   "metadata": {},
   "source": [
    "Tarefa 2"
   ]
  },
  {
   "cell_type": "code",
   "execution_count": 41,
   "metadata": {},
   "outputs": [],
   "source": [
    "import math\n",
    "\n",
    "def calcula_minimo2(x, y, alpha):\n",
    "    iteracoes = 1\n",
    "    a = (x / ((x**2 + y**2 + 1)**0.5)) + ((2*x) / ((math.e**(y**2)) + 2*x -4))\n",
    "    b = (y / ((x**2 + y**2 + 1)**0.5)) - ((2*(x**2)*y) / (math.e**(y**2)))\n",
    "    vetor = (a**2 + b**2)**0.5\n",
    "    x_novo = x - alpha * a\n",
    "    y_novo = y - alpha * b\n",
    "    x = x_novo\n",
    "    y = y_novo\n",
    "\n",
    "    while vetor > 10**-5:\n",
    "        a = (x / ((x**2 + y**2 + 1)**0.5)) + ((2*x) / ((math.e**(y**2)) + 2*x -4))\n",
    "        b = (y / ((x**2 + y**2 + 1)**0.5)) - ((2*(x**2)*y) / (math.e**(y**2)))\n",
    "        vetor = (a**2 + b**2)**0.5\n",
    "        x_novo = x + alpha * (-a)\n",
    "        y_novo = y + alpha * (-b)\n",
    "        x = x_novo\n",
    "        y = y_novo\n",
    "        iteracoes += 1\n",
    "    return (f\"O x final vale {x}, o y final vale {y} e número de interações totais foi {iteracoes}, dado um alpha = {alpha}.\")"
   ]
  },
  {
   "cell_type": "code",
   "execution_count": 47,
   "metadata": {},
   "outputs": [
    {
     "name": "stdout",
     "output_type": "stream",
     "text": [
      "O x final vale 0.0, o y final vale 0.0 e número de interações totais foi 1, dado um alpha = 0.1.\n"
     ]
    }
   ],
   "source": [
    "print(calcula_minimo2(0,0,0.1))"
   ]
  }
 ],
 "metadata": {
  "kernelspec": {
   "display_name": ".venv",
   "language": "python",
   "name": "python3"
  },
  "language_info": {
   "codemirror_mode": {
    "name": "ipython",
    "version": 3
   },
   "file_extension": ".py",
   "mimetype": "text/x-python",
   "name": "python",
   "nbconvert_exporter": "python",
   "pygments_lexer": "ipython3",
   "version": "3.11.4"
  }
 },
 "nbformat": 4,
 "nbformat_minor": 2
}
