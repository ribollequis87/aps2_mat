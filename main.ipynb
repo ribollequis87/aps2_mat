{
 "cells": [
  {
   "cell_type": "markdown",
   "metadata": {},
   "source": [
    "Tarefa 1"
   ]
  },
  {
   "cell_type": "markdown",
   "metadata": {},
   "source": [
    "A"
   ]
  },
  {
   "cell_type": "markdown",
   "metadata": {},
   "source": [
    "Link do GeoGebra da função f --> https://www.geogebra.org/m/uaepaq7x"
   ]
  },
  {
   "cell_type": "markdown",
   "metadata": {},
   "source": [
    "B\n",
    "\n",
    "O vetor gradiente é ( 6*x + 3*y + 3 ; 3*x + 4*y +1)\n",
    "\n",
    "<img src= derivadas_f.jpeg>\n"
   ]
  },
  {
   "cell_type": "markdown",
   "metadata": {},
   "source": [
    "C"
   ]
  },
  {
   "cell_type": "code",
   "execution_count": 35,
   "metadata": {},
   "outputs": [],
   "source": [
    "def calcula_minimo(x, y, alpha):\n",
    "    iteracoes = 1\n",
    "    a = 6*x + 3 * y + 3\n",
    "    b = 3*x + 4*y +1\n",
    "    vetor = (a**2 + b**2)**0.5\n",
    "    x_novo = x - alpha * a\n",
    "    y_novo = y - alpha * b\n",
    "    x = x_novo\n",
    "    y = y_novo\n",
    "\n",
    "    while vetor > 10**-5:\n",
    "        a = 6*x + 3 * y + 3\n",
    "        b = 3*x + 4*y +1\n",
    "        vetor = (a**2 + b**2)**0.5\n",
    "        x_novo = x + alpha * (-a)\n",
    "        y_novo = y + alpha * (-b)\n",
    "        x = x_novo\n",
    "        y = y_novo\n",
    "        iteracoes += 1\n",
    "    return (f\"O x final vale {x}, o y final vale {y} e número de interações totais foi {iteracoes}, dado um alpha = {alpha}.\")"
   ]
  },
  {
   "cell_type": "code",
   "execution_count": 36,
   "metadata": {},
   "outputs": [
    {
     "name": "stdout",
     "output_type": "stream",
     "text": [
      "O x final vale -0.5999976976020822, o y final vale 0.19999680559352725 e número de interações totais foi 58, dado um alpha = 0.1.\n"
     ]
    }
   ],
   "source": [
    "print(calcula_minimo(0, 0, 0.1)) # Alpha = 0.1"
   ]
  },
  {
   "cell_type": "code",
   "execution_count": 62,
   "metadata": {},
   "outputs": [
    {
     "name": "stdout",
     "output_type": "stream",
     "text": [
      "O z do ponto mínimo da função f é -0.7998000000000003\n"
     ]
    }
   ],
   "source": [
    "x = -0.59\n",
    "y = 0.19\n",
    "\n",
    "z = 3* (x**2) + 3*x*y + 2* (y**2) + 3*x + y\n",
    "\n",
    "print(f'O z do ponto mínimo da função f é {z}')"
   ]
  },
  {
   "cell_type": "markdown",
   "metadata": {},
   "source": [
    "D"
   ]
  },
  {
   "cell_type": "code",
   "execution_count": 37,
   "metadata": {},
   "outputs": [
    {
     "name": "stdout",
     "output_type": "stream",
     "text": [
      "O x final vale -0.5999980274447267, o y final vale 0.19999726322575093 e número de interações totais foi 37, dado um alpha = 0.15.\n"
     ]
    }
   ],
   "source": [
    "print(calcula_minimo(0, 0, 0.15)) # Alpha = 0.15"
   ]
  },
  {
   "cell_type": "code",
   "execution_count": 38,
   "metadata": {},
   "outputs": [
    {
     "name": "stdout",
     "output_type": "stream",
     "text": [
      "O x final vale -0.6, o y final vale 0.19999892625817609 e número de interações totais foi 29, dado um alpha = 0.2.\n"
     ]
    }
   ],
   "source": [
    "print(calcula_minimo(0, 0, 0.2)) # Alpha = 0.2"
   ]
  },
  {
   "cell_type": "code",
   "execution_count": 39,
   "metadata": {},
   "outputs": [
    {
     "ename": "OverflowError",
     "evalue": "(34, 'Result too large')",
     "output_type": "error",
     "traceback": [
      "\u001b[1;31m---------------------------------------------------------------------------\u001b[0m",
      "\u001b[1;31mOverflowError\u001b[0m                             Traceback (most recent call last)",
      "\u001b[1;32mc:\\Insper 2 semestre\\Matemática do Contínuo\\aps2_mat\\main.ipynb Cell 11\u001b[0m line \u001b[0;36m1\n\u001b[1;32m----> <a href='vscode-notebook-cell:/c%3A/Insper%202%20semestre/Matem%C3%A1tica%20do%20Cont%C3%ADnuo/aps2_mat/main.ipynb#X30sZmlsZQ%3D%3D?line=0'>1</a>\u001b[0m \u001b[39mprint\u001b[39m(calcula_minimo(\u001b[39m0\u001b[39;49m, \u001b[39m0\u001b[39;49m, \u001b[39m0.3\u001b[39;49m)) \u001b[39m# Alpha = 0.3\u001b[39;00m\n",
      "\u001b[1;32mc:\\Insper 2 semestre\\Matemática do Contínuo\\aps2_mat\\main.ipynb Cell 11\u001b[0m line \u001b[0;36m1\n\u001b[0;32m     <a href='vscode-notebook-cell:/c%3A/Insper%202%20semestre/Matem%C3%A1tica%20do%20Cont%C3%ADnuo/aps2_mat/main.ipynb#X30sZmlsZQ%3D%3D?line=11'>12</a>\u001b[0m a \u001b[39m=\u001b[39m \u001b[39m6\u001b[39m\u001b[39m*\u001b[39mx \u001b[39m+\u001b[39m \u001b[39m3\u001b[39m \u001b[39m*\u001b[39m y \u001b[39m+\u001b[39m \u001b[39m3\u001b[39m\n\u001b[0;32m     <a href='vscode-notebook-cell:/c%3A/Insper%202%20semestre/Matem%C3%A1tica%20do%20Cont%C3%ADnuo/aps2_mat/main.ipynb#X30sZmlsZQ%3D%3D?line=12'>13</a>\u001b[0m b \u001b[39m=\u001b[39m \u001b[39m3\u001b[39m\u001b[39m*\u001b[39mx \u001b[39m+\u001b[39m \u001b[39m4\u001b[39m\u001b[39m*\u001b[39my \u001b[39m+\u001b[39m\u001b[39m1\u001b[39m\n\u001b[1;32m---> <a href='vscode-notebook-cell:/c%3A/Insper%202%20semestre/Matem%C3%A1tica%20do%20Cont%C3%ADnuo/aps2_mat/main.ipynb#X30sZmlsZQ%3D%3D?line=13'>14</a>\u001b[0m vetor \u001b[39m=\u001b[39m (a\u001b[39m*\u001b[39;49m\u001b[39m*\u001b[39;49m\u001b[39m2\u001b[39;49m \u001b[39m+\u001b[39m b\u001b[39m*\u001b[39m\u001b[39m*\u001b[39m\u001b[39m2\u001b[39m)\u001b[39m*\u001b[39m\u001b[39m*\u001b[39m\u001b[39m0.5\u001b[39m\n\u001b[0;32m     <a href='vscode-notebook-cell:/c%3A/Insper%202%20semestre/Matem%C3%A1tica%20do%20Cont%C3%ADnuo/aps2_mat/main.ipynb#X30sZmlsZQ%3D%3D?line=14'>15</a>\u001b[0m x_novo \u001b[39m=\u001b[39m x \u001b[39m+\u001b[39m alpha \u001b[39m*\u001b[39m (\u001b[39m-\u001b[39ma)\n\u001b[0;32m     <a href='vscode-notebook-cell:/c%3A/Insper%202%20semestre/Matem%C3%A1tica%20do%20Cont%C3%ADnuo/aps2_mat/main.ipynb#X30sZmlsZQ%3D%3D?line=15'>16</a>\u001b[0m y_novo \u001b[39m=\u001b[39m y \u001b[39m+\u001b[39m alpha \u001b[39m*\u001b[39m (\u001b[39m-\u001b[39mb)\n",
      "\u001b[1;31mOverflowError\u001b[0m: (34, 'Result too large')"
     ]
    }
   ],
   "source": [
    "print(calcula_minimo(0, 0, 0.3)) # Alpha = 0.3"
   ]
  },
  {
   "cell_type": "code",
   "execution_count": null,
   "metadata": {},
   "outputs": [
    {
     "ename": "OverflowError",
     "evalue": "(34, 'Result too large')",
     "output_type": "error",
     "traceback": [
      "\u001b[1;31m---------------------------------------------------------------------------\u001b[0m",
      "\u001b[1;31mOverflowError\u001b[0m                             Traceback (most recent call last)",
      "\u001b[1;32mc:\\Users\\gusri\\OneDrive\\Documentos\\Insper\\mat_continuo\\aps2\\aps2_mat\\main.ipynb Cell 7\u001b[0m line \u001b[0;36m1\n\u001b[1;32m----> <a href='vscode-notebook-cell:/c%3A/Users/gusri/OneDrive/Documentos/Insper/mat_continuo/aps2/aps2_mat/main.ipynb#X10sZmlsZQ%3D%3D?line=0'>1</a>\u001b[0m \u001b[39mprint\u001b[39m(calcula_minimo(\u001b[39m0\u001b[39;49m, \u001b[39m0\u001b[39;49m, \u001b[39m0.5\u001b[39;49m)) \u001b[39m# Alpha = 0.5\u001b[39;00m\n",
      "\u001b[1;32mc:\\Users\\gusri\\OneDrive\\Documentos\\Insper\\mat_continuo\\aps2\\aps2_mat\\main.ipynb Cell 7\u001b[0m line \u001b[0;36m1\n\u001b[0;32m     <a href='vscode-notebook-cell:/c%3A/Users/gusri/OneDrive/Documentos/Insper/mat_continuo/aps2/aps2_mat/main.ipynb#X10sZmlsZQ%3D%3D?line=11'>12</a>\u001b[0m a \u001b[39m=\u001b[39m \u001b[39m6\u001b[39m\u001b[39m*\u001b[39mx \u001b[39m+\u001b[39m \u001b[39m3\u001b[39m \u001b[39m*\u001b[39m y \u001b[39m+\u001b[39m \u001b[39m3\u001b[39m\n\u001b[0;32m     <a href='vscode-notebook-cell:/c%3A/Users/gusri/OneDrive/Documentos/Insper/mat_continuo/aps2/aps2_mat/main.ipynb#X10sZmlsZQ%3D%3D?line=12'>13</a>\u001b[0m b \u001b[39m=\u001b[39m \u001b[39m3\u001b[39m\u001b[39m*\u001b[39mx \u001b[39m+\u001b[39m \u001b[39m4\u001b[39m\u001b[39m*\u001b[39my \u001b[39m+\u001b[39m\u001b[39m1\u001b[39m\n\u001b[1;32m---> <a href='vscode-notebook-cell:/c%3A/Users/gusri/OneDrive/Documentos/Insper/mat_continuo/aps2/aps2_mat/main.ipynb#X10sZmlsZQ%3D%3D?line=13'>14</a>\u001b[0m vetor \u001b[39m=\u001b[39m (a\u001b[39m*\u001b[39;49m\u001b[39m*\u001b[39;49m\u001b[39m2\u001b[39;49m \u001b[39m+\u001b[39m b\u001b[39m*\u001b[39m\u001b[39m*\u001b[39m\u001b[39m2\u001b[39m)\u001b[39m*\u001b[39m\u001b[39m*\u001b[39m\u001b[39m0.5\u001b[39m\n\u001b[0;32m     <a href='vscode-notebook-cell:/c%3A/Users/gusri/OneDrive/Documentos/Insper/mat_continuo/aps2/aps2_mat/main.ipynb#X10sZmlsZQ%3D%3D?line=14'>15</a>\u001b[0m x_novo \u001b[39m=\u001b[39m x \u001b[39m+\u001b[39m alpha \u001b[39m*\u001b[39m (\u001b[39m-\u001b[39ma)\n\u001b[0;32m     <a href='vscode-notebook-cell:/c%3A/Users/gusri/OneDrive/Documentos/Insper/mat_continuo/aps2/aps2_mat/main.ipynb#X10sZmlsZQ%3D%3D?line=15'>16</a>\u001b[0m y_novo \u001b[39m=\u001b[39m y \u001b[39m+\u001b[39m alpha \u001b[39m*\u001b[39m (\u001b[39m-\u001b[39mb)\n",
      "\u001b[1;31mOverflowError\u001b[0m: (34, 'Result too large')"
     ]
    }
   ],
   "source": [
    "print(calcula_minimo(0, 0, 0.5)) # Alpha = 0.5"
   ]
  },
  {
   "cell_type": "markdown",
   "metadata": {},
   "source": [
    "Como foi possível identificar no código acima, a partir do alpha igual a 0.3 ocorre um erro de overflow, isso ocorre devido a imprecisão do ponto seguinte no gráfico nos alphas de 0.3 para mais. Visto que, a cada iteração, o ponto fica cada vez mais impreciso e distante do gráfico, não sendo possível encontrar um valor correspondente ao mínimo para esse valores de alpha."
   ]
  },
  {
   "cell_type": "markdown",
   "metadata": {},
   "source": [
    "Tarefa 2"
   ]
  },
  {
   "cell_type": "markdown",
   "metadata": {},
   "source": [
    "Calculamos o vetor gradiente da função g e substituímos no a e no b do código previamente feito.\n",
    "\n",
    "<img src= derivadas_g.jpeg>\n"
   ]
  },
  {
   "cell_type": "markdown",
   "metadata": {},
   "source": []
  },
  {
   "cell_type": "code",
   "execution_count": null,
   "metadata": {},
   "outputs": [],
   "source": [
    "import math\n",
    "\n",
    "def calcula_minimo2(x, y, alpha):\n",
    "    iteracoes = 1\n",
    "    a = (x / ((x**2 + y**2 + 1)**0.5)) + ((2*x * (math.e**-(y**2)))) + 2*x - 4\n",
    "    b = (y / ((x**2 + y**2 + 1)**0.5)) - (2 * ((math.e) **-(y**2))* (x**2) * y)\n",
    "    vetor = (a**2 + b**2)**0.5\n",
    "    x_novo = x - alpha * a\n",
    "    y_novo = y - alpha * b\n",
    "    x = x_novo\n",
    "    y = y_novo\n",
    "\n",
    "    while vetor > 10**-5:\n",
    "        a = (x / ((x**2 + y**2 + 1)**0.5)) + ((2*x * (math.e**-(y**2))))+ 2*x - 4\n",
    "        b = (y / ((x**2 + y**2 + 1)**0.5)) - (2 * ((math.e) **-(y**2))* (x**2) * y)\n",
    "        vetor = (a**2 + b**2)**0.5\n",
    "        x_novo = x + alpha * (-a)\n",
    "        y_novo = y + alpha * (-b)\n",
    "        x = x_novo\n",
    "        y = y_novo\n",
    "        iteracoes += 1\n",
    "    return (f\"O x final vale {x}, o y final vale {y} e número de interações totais foi {iteracoes}, dado um alpha = {alpha}.\")"
   ]
  },
  {
   "cell_type": "code",
   "execution_count": null,
   "metadata": {},
   "outputs": [
    {
     "name": "stdout",
     "output_type": "stream",
     "text": [
      "O x final vale 1.5461787386486368, o y final vale 1.5642454526104521 e número de interações totais foi 104, dado um alpha = 0.1.\n"
     ]
    }
   ],
   "source": [
    "print(calcula_minimo2(1,1,0.1))"
   ]
  },
  {
   "cell_type": "code",
   "execution_count": null,
   "metadata": {},
   "outputs": [
    {
     "name": "stdout",
     "output_type": "stream",
     "text": [
      "O x final vale 1.5461787116326164, o y final vale -1.5642454169823368 e número de interações totais foi 113, dado um alpha = 0.1.\n"
     ]
    }
   ],
   "source": [
    "print(calcula_minimo2(-1,-1,0.1))"
   ]
  },
  {
   "cell_type": "code",
   "execution_count": 64,
   "metadata": {},
   "outputs": [
    {
     "name": "stdout",
     "output_type": "stream",
     "text": [
      "O z do ponto mínimo da função g é 2.828999740749724\n"
     ]
    }
   ],
   "source": [
    "x = 1.5461\n",
    "y = 1.5642\n",
    "\n",
    "z = (((x**2)+ (y**2)+ 1) **0.5) + (x**2) * (math.e**(-(y**2))) + (x-2)**2\n",
    "\n",
    "print(f'O z do ponto mínimo da função g é {z}')"
   ]
  },
  {
   "cell_type": "markdown",
   "metadata": {},
   "source": [
    "Começamos com o ponto inicial (1,1) e (-1,-1), para obtermos os dois pontos de mínimo da função. Fizemos isso, pois ao colocarmos o ponto inicial (0,0), a função não reconhece para qual direção o vetor deve seguir."
   ]
  },
  {
   "cell_type": "code",
   "execution_count": null,
   "metadata": {},
   "outputs": [],
   "source": [
    "print(calcula_minimo2(1,1,0.63))"
   ]
  },
  {
   "cell_type": "markdown",
   "metadata": {},
   "source": [
    "Ao aumentarmos o valor do passo, a única mudança encontrada até o alpha de valor 0.63 foi a diminuição da quantidade de iterações. A partir desse alpha, o código não é mais capaz de encontrar os pontos críticos da função, uma vez que ocorre o mesmo problema da tarefa 1."
   ]
  },
  {
   "cell_type": "markdown",
   "metadata": {},
   "source": [
    "Tarefa 3"
   ]
  },
  {
   "cell_type": "markdown",
   "metadata": {},
   "source": [
    "Utilizamos o código previamente feito e o alteramos para ao invés de subtrairmos, somarmos o vetor gradiente, para assim encontrarmos os pontos de máximo da função.\n",
    "\n",
    "<img src= derivadas_h.jpeg>"
   ]
  },
  {
   "cell_type": "code",
   "execution_count": 57,
   "metadata": {},
   "outputs": [],
   "source": [
    "import math\n",
    "\n",
    "def calcula_maximo(x, y, alpha):\n",
    "    iteracoes = 1\n",
    "    a = (-8*math.e**(-(x**2) - (y**2)))*x-6*math.e**(-(x**2) - (y**2)+4*x+6*y-13)*x+12*math.e**(-(x**2) - (y**2)+4*x+6*y-13)-(x/4)\n",
    "    b = (-8*math.e**(-(x**2) - (y**2)))*y-6*math.e**(-(x**2) - (y**2)+4*x+6*y-13)*y+18*math.e**(-(x**2) - (y**2)+4*x+6*y-13)-(y/7)\n",
    "    vetor = (a**2 + b**2)**0.5\n",
    "    x_novo = x + alpha * a\n",
    "    y_novo = y + alpha * b\n",
    "    x = x_novo\n",
    "    y = y_novo\n",
    "\n",
    "    while vetor > 10**-5:\n",
    "        a = (-8*math.e**(-(x**2) - (y**2)))*x-6*math.e**(-(x**2) - (y**2)+4*x+6*y-13)*x+12*math.e**(-(x**2) - (y**2)+4*x+6*y-13)-(x/4)\n",
    "        b = (-8*math.e**(-(x**2) - (y**2)))*y-6*math.e**(-(x**2) - (y**2)+4*x+6*y-13)*y+18*math.e**(-(x**2) - (y**2)+4*x+6*y-13)-(y/7)\n",
    "        vetor = (a**2 + b**2)**0.5\n",
    "        x_novo = x + alpha * a\n",
    "        y_novo = y + alpha * b\n",
    "        x = x_novo\n",
    "        y = y_novo\n",
    "        iteracoes += 1\n",
    "    return (f\"O x final vale {x}, o y final vale {y} e número de interações totais foi {iteracoes}, dado um alpha = {alpha}.\")"
   ]
  },
  {
   "cell_type": "code",
   "execution_count": 58,
   "metadata": {},
   "outputs": [
    {
     "data": {
      "text/plain": [
       "'O x final vale 3.1871564289893545e-06, o y final vale 4.824326710618667e-06 e número de interações totais foi 2, dado um alpha = 0.1.'"
      ]
     },
     "execution_count": 58,
     "metadata": {},
     "output_type": "execute_result"
    }
   ],
   "source": [
    "calcula_maximo(0,0,0.1)"
   ]
  },
  {
   "cell_type": "code",
   "execution_count": 65,
   "metadata": {},
   "outputs": [
    {
     "name": "stdout",
     "output_type": "stream",
     "text": [
      "O z do primeiro ponto máximo da função f é 6.000006781130073\n"
     ]
    }
   ],
   "source": [
    "x = 0.000003\n",
    "y = 0.000004\n",
    "\n",
    "z = 4 * (math.e**(-(x**2)-(y**2))) + 3* (math.e**(-(x**2)-(y**2)+4*x+6*y-13)) - ((x**2)/8) - ((y**2)/14) + 2\n",
    "\n",
    "print(f'O z do primeiro ponto máximo da função h é {z}')\n"
   ]
  },
  {
   "cell_type": "markdown",
   "metadata": {},
   "source": [
    "O primeiro ponto de máximo encontrado foi o acima, que os valores de x e y são muito próximos de 0."
   ]
  },
  {
   "cell_type": "code",
   "execution_count": 61,
   "metadata": {},
   "outputs": [
    {
     "data": {
      "text/plain": [
       "'O x final vale 1.919098257031193, o y final vale 2.9294241463566837 e número de interações totais foi 18, dado um alpha = 0.1.'"
      ]
     },
     "execution_count": 61,
     "metadata": {},
     "output_type": "execute_result"
    }
   ],
   "source": [
    "calcula_maximo(2,2,0.1)"
   ]
  },
  {
   "cell_type": "code",
   "execution_count": 66,
   "metadata": {},
   "outputs": [
    {
     "name": "stdout",
     "output_type": "stream",
     "text": [
      "O z do segundo ponto máximo da função h é 3.8923058204378798\n"
     ]
    }
   ],
   "source": [
    "x = 1.9190\n",
    "y = 2.9294\n",
    "\n",
    "z = 4 * (math.e**(-(x**2)-(y**2))) + 3* (math.e**(-(x**2)-(y**2)+4*x+6*y-13)) - ((x**2)/8) - ((y**2)/14) + 2\n",
    "\n",
    "print(f'O z do segundo ponto máximo da função h é {z}')"
   ]
  },
  {
   "cell_type": "markdown",
   "metadata": {},
   "source": [
    "O segundo ponto de máximo encontrado foi o acima. Colocamos pontos iniciais maiores para que a função encontrasse o próximo ponto de máximo."
   ]
  }
 ],
 "metadata": {
  "kernelspec": {
   "display_name": ".venv",
   "language": "python",
   "name": "python3"
  },
  "language_info": {
   "codemirror_mode": {
    "name": "ipython",
    "version": 3
   },
   "file_extension": ".py",
   "mimetype": "text/x-python",
   "name": "python",
   "nbconvert_exporter": "python",
   "pygments_lexer": "ipython3",
   "version": "3.11.4"
  }
 },
 "nbformat": 4,
 "nbformat_minor": 2
}
